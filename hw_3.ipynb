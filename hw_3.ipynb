{
 "cells": [
  {
   "cell_type": "code",
   "execution_count": 1,
   "id": "f6bce8f9-bab9-4d25-9624-71399af2761a",
   "metadata": {},
   "outputs": [],
   "source": [
    "import pandas as pd\n",
    "import numpy as np\n",
    "import matplotlib.pyplot as plt\n",
    "%matplotlib inline\n",
    "from scipy.sparse import csr_matrix\n",
    "from implicit.als import AlternatingLeastSquares\n",
    "from implicit.nearest_neighbours import bm25_weight, tfidf_weight"
   ]
  },
  {
   "cell_type": "code",
   "execution_count": 2,
   "id": "da70fe06-16ab-4da8-82ec-d29c111bbb56",
   "metadata": {},
   "outputs": [
    {
     "data": {
      "text/html": [
       "<div>\n",
       "<style scoped>\n",
       "    .dataframe tbody tr th:only-of-type {\n",
       "        vertical-align: middle;\n",
       "    }\n",
       "\n",
       "    .dataframe tbody tr th {\n",
       "        vertical-align: top;\n",
       "    }\n",
       "\n",
       "    .dataframe thead th {\n",
       "        text-align: right;\n",
       "    }\n",
       "</style>\n",
       "<table border=\"1\" class=\"dataframe\">\n",
       "  <thead>\n",
       "    <tr style=\"text-align: right;\">\n",
       "      <th></th>\n",
       "      <th>user_id</th>\n",
       "      <th>basket_id</th>\n",
       "      <th>day</th>\n",
       "      <th>item_id</th>\n",
       "      <th>quantity</th>\n",
       "      <th>sales_value</th>\n",
       "      <th>store_id</th>\n",
       "      <th>retail_disc</th>\n",
       "      <th>trans_time</th>\n",
       "      <th>week_no</th>\n",
       "      <th>coupon_disc</th>\n",
       "      <th>coupon_match_disc</th>\n",
       "    </tr>\n",
       "  </thead>\n",
       "  <tbody>\n",
       "    <tr>\n",
       "      <th>0</th>\n",
       "      <td>2375</td>\n",
       "      <td>26984851472</td>\n",
       "      <td>1</td>\n",
       "      <td>1004906</td>\n",
       "      <td>1</td>\n",
       "      <td>1.39</td>\n",
       "      <td>364</td>\n",
       "      <td>-0.6</td>\n",
       "      <td>1631</td>\n",
       "      <td>1</td>\n",
       "      <td>0.0</td>\n",
       "      <td>0.0</td>\n",
       "    </tr>\n",
       "    <tr>\n",
       "      <th>1</th>\n",
       "      <td>2375</td>\n",
       "      <td>26984851472</td>\n",
       "      <td>1</td>\n",
       "      <td>1033142</td>\n",
       "      <td>1</td>\n",
       "      <td>0.82</td>\n",
       "      <td>364</td>\n",
       "      <td>0.0</td>\n",
       "      <td>1631</td>\n",
       "      <td>1</td>\n",
       "      <td>0.0</td>\n",
       "      <td>0.0</td>\n",
       "    </tr>\n",
       "  </tbody>\n",
       "</table>\n",
       "</div>"
      ],
      "text/plain": [
       "   user_id    basket_id  day  item_id  quantity  sales_value  store_id  \\\n",
       "0     2375  26984851472    1  1004906         1         1.39       364   \n",
       "1     2375  26984851472    1  1033142         1         0.82       364   \n",
       "\n",
       "   retail_disc  trans_time  week_no  coupon_disc  coupon_match_disc  \n",
       "0         -0.6        1631        1          0.0                0.0  \n",
       "1          0.0        1631        1          0.0                0.0  "
      ]
     },
     "execution_count": 2,
     "metadata": {},
     "output_type": "execute_result"
    }
   ],
   "source": [
    "data = pd.read_csv('C:/Study/Рекомендательные системы/2/webinar_2/retail_train.csv')\n",
    "data.head(2)"
   ]
  },
  {
   "cell_type": "code",
   "execution_count": 3,
   "id": "c22e92cd-4c99-45c5-88bb-71e923c6dd4d",
   "metadata": {},
   "outputs": [],
   "source": [
    "test_size_weeks = 3\n",
    "\n",
    "data_train = data[data['week_no'] < data['week_no'].max() - test_size_weeks]\n",
    "data_test = data[data['week_no'] >= data['week_no'].max() - test_size_weeks]"
   ]
  },
  {
   "cell_type": "code",
   "execution_count": 4,
   "id": "db1952b2-a9cc-4fcb-9cc8-05cff38176fd",
   "metadata": {},
   "outputs": [
    {
     "data": {
      "text/html": [
       "<div>\n",
       "<style scoped>\n",
       "    .dataframe tbody tr th:only-of-type {\n",
       "        vertical-align: middle;\n",
       "    }\n",
       "\n",
       "    .dataframe tbody tr th {\n",
       "        vertical-align: top;\n",
       "    }\n",
       "\n",
       "    .dataframe thead th {\n",
       "        text-align: right;\n",
       "    }\n",
       "</style>\n",
       "<table border=\"1\" class=\"dataframe\">\n",
       "  <thead>\n",
       "    <tr style=\"text-align: right;\">\n",
       "      <th></th>\n",
       "      <th>user_id</th>\n",
       "      <th>actual</th>\n",
       "    </tr>\n",
       "  </thead>\n",
       "  <tbody>\n",
       "    <tr>\n",
       "      <th>0</th>\n",
       "      <td>1</td>\n",
       "      <td>[821867, 834484, 856942, 865456, 889248, 90795...</td>\n",
       "    </tr>\n",
       "    <tr>\n",
       "      <th>1</th>\n",
       "      <td>3</td>\n",
       "      <td>[835476, 851057, 872021, 878302, 879948, 90963...</td>\n",
       "    </tr>\n",
       "  </tbody>\n",
       "</table>\n",
       "</div>"
      ],
      "text/plain": [
       "   user_id                                             actual\n",
       "0        1  [821867, 834484, 856942, 865456, 889248, 90795...\n",
       "1        3  [835476, 851057, 872021, 878302, 879948, 90963..."
      ]
     },
     "execution_count": 4,
     "metadata": {},
     "output_type": "execute_result"
    }
   ],
   "source": [
    "result = data_test.groupby('user_id')['item_id'].unique().reset_index()\n",
    "result.columns=['user_id', 'actual']\n",
    "result.head(2)"
   ]
  },
  {
   "cell_type": "markdown",
   "id": "faccc79f",
   "metadata": {},
   "source": [
    "### Функции метрик:"
   ]
  },
  {
   "cell_type": "code",
   "execution_count": 5,
   "id": "71751fee",
   "metadata": {},
   "outputs": [],
   "source": [
    "def precision_at_k(recommended_list, bought_list, k=5):\n",
    "    bought_list = np.array(bought_list)\n",
    "    recommended_list = np.array(recommended_list)\n",
    "    bought_list = bought_list  # Тут нет [:k] !!\n",
    "    recommended_list = recommended_list[:k]\n",
    "    flags = np.isin(recommended_list, bought_list)\n",
    "    precision = flags.sum() / len(recommended_list)\n",
    "    return precision"
   ]
  },
  {
   "cell_type": "code",
   "execution_count": 6,
   "id": "7fa8e92c",
   "metadata": {},
   "outputs": [],
   "source": [
    "def ap_at_k(recommended_list, bought_list, k=5):\n",
    "    \n",
    "    bought_list = np.array(bought_list)\n",
    "    recommended_list = np.array(recommended_list)\n",
    "    \n",
    "    flags = np.isin(recommended_list,bought_list)\n",
    "    \n",
    "    if sum(flags) == 0:\n",
    "        return 0\n",
    "    \n",
    "    sum_ = 0\n",
    "    for i in range(k):\n",
    "        \n",
    "        if flags[i]:\n",
    "            p_k = precision_at_k(recommended_list, bought_list, k=i+1)\n",
    "            sum_ += p_k\n",
    "            \n",
    "    result = sum_ / k\n",
    "    \n",
    "    return result"
   ]
  },
  {
   "cell_type": "markdown",
   "id": "c13d533d",
   "metadata": {},
   "source": [
    "### Обработка TOP-5000 товаров:"
   ]
  },
  {
   "cell_type": "code",
   "execution_count": 7,
   "id": "56de121c-dc25-465b-bc0c-65cc69570b66",
   "metadata": {},
   "outputs": [],
   "source": [
    "popularity = data_train.groupby('item_id')['quantity'].sum().reset_index()\n",
    "popularity.rename(columns={'quantity': 'n_sold'}, inplace=True)\n",
    "top_5000 = popularity.sort_values('n_sold', ascending=False).head(5000).item_id.tolist()\n",
    "data_train.loc[~data_train['item_id'].isin(top_5000), 'item_id'] = 999999\n",
    "user_item_matrix = pd.pivot_table(data_train, \n",
    "                                  index='user_id', columns='item_id', \n",
    "                                  values='quantity',\n",
    "                                  aggfunc='count', \n",
    "                                  fill_value=0\n",
    "                                 )\n",
    "user_item_matrix = user_item_matrix.astype(float)\n",
    "sparse_user_item = csr_matrix(user_item_matrix).tocsr()\n",
    "#user_item_matrix.head(3)\n",
    "userids = user_item_matrix.index.values\n",
    "itemids = user_item_matrix.columns.values\n",
    "matrix_userids = np.arange(len(userids))\n",
    "matrix_itemids = np.arange(len(itemids))\n",
    "id_to_itemid = dict(zip(matrix_itemids, itemids))\n",
    "id_to_userid = dict(zip(matrix_userids, userids))\n",
    "itemid_to_id = dict(zip(itemids, matrix_itemids))\n",
    "userid_to_id = dict(zip(userids, matrix_userids))"
   ]
  },
  {
   "cell_type": "markdown",
   "id": "a866a867",
   "metadata": {},
   "source": [
    "### 1. ALS:"
   ]
  },
  {
   "cell_type": "code",
   "execution_count": 8,
   "id": "212c523a",
   "metadata": {},
   "outputs": [],
   "source": [
    "def get_recommendations(user, model, sparse_user_item, N=5):\n",
    "    res = [id_to_itemid[rec] for rec in \n",
    "                    model.recommend(userid=userid_to_id[user], \n",
    "                                    user_items=sparse_user_item[userid_to_id[user]],\n",
    "                                    N=N, \n",
    "                                    filter_already_liked_items=False, \n",
    "                                    filter_items=[itemid_to_id[999999]], \n",
    "                                    recalculate_user=True)[0]]\n",
    "    return res"
   ]
  },
  {
   "cell_type": "code",
   "execution_count": 9,
   "id": "77658721",
   "metadata": {},
   "outputs": [
    {
     "data": {
      "application/json": {
       "ascii": false,
       "bar_format": null,
       "colour": null,
       "elapsed": 0.02094721794128418,
       "initial": 0,
       "n": 0,
       "ncols": null,
       "nrows": 29,
       "postfix": null,
       "prefix": "",
       "rate": null,
       "total": 15,
       "unit": "it",
       "unit_divisor": 1000,
       "unit_scale": false
      },
      "application/vnd.jupyter.widget-view+json": {
       "model_id": "e2488313d15348e7a6577561a0b956c1",
       "version_major": 2,
       "version_minor": 0
      },
      "text/plain": [
       "  0%|          | 0/15 [00:00<?, ?it/s]"
      ]
     },
     "metadata": {},
     "output_type": "display_data"
    }
   ],
   "source": [
    "model = AlternatingLeastSquares(factors=100, \n",
    "                                regularization=0.001,\n",
    "                                iterations=15, \n",
    "                                calculate_training_loss=True, \n",
    "                                num_threads=4,random_state=42)\n",
    "model.fit(sparse_user_item,\n",
    "          show_progress=True)\n",
    "recs = model.recommend(userid=userid_to_id[2],\n",
    "                        user_items=sparse_user_item,\n",
    "                        N=5,\n",
    "                        filter_already_liked_items=False, \n",
    "                        filter_items=[itemid_to_id[999999]], \n",
    "                        recalculate_user=False)"
   ]
  },
  {
   "cell_type": "code",
   "execution_count": 10,
   "id": "8324dc59",
   "metadata": {},
   "outputs": [],
   "source": [
    "result['als'] = result['user_id'].map(lambda x: get_recommendations(x, model, sparse_user_item, N=5))\n",
    "pak0 = result.apply(lambda row: precision_at_k(row['als'], row['actual']), axis=1).mean()\n",
    "mapk0 = result.apply(lambda row: ap_at_k(row['als'], row['actual'], 5), axis=1).mean()"
   ]
  },
  {
   "cell_type": "code",
   "execution_count": 11,
   "id": "83b40d92",
   "metadata": {},
   "outputs": [
    {
     "data": {
      "application/json": {
       "ascii": false,
       "bar_format": null,
       "colour": null,
       "elapsed": 0.013962268829345703,
       "initial": 0,
       "n": 0,
       "ncols": null,
       "nrows": 29,
       "postfix": null,
       "prefix": "",
       "rate": null,
       "total": 2,
       "unit": "it",
       "unit_divisor": 1000,
       "unit_scale": false
      },
      "application/vnd.jupyter.widget-view+json": {
       "model_id": "5e5a804403904be1964af9a02ed112e9",
       "version_major": 2,
       "version_minor": 0
      },
      "text/plain": [
       "  0%|          | 0/2 [00:00<?, ?it/s]"
      ]
     },
     "metadata": {},
     "output_type": "display_data"
    }
   ],
   "source": [
    "model = AlternatingLeastSquares(factors=200, \n",
    "                                regularization=0.005,\n",
    "                                iterations=2, \n",
    "                                calculate_training_loss=True, \n",
    "                                num_threads=4,random_state=42)\n",
    "model.fit(sparse_user_item,\n",
    "          show_progress=True)\n",
    "recs = model.recommend(userid=userid_to_id[2],\n",
    "                        user_items=sparse_user_item,\n",
    "                        N=5,\n",
    "                        filter_already_liked_items=False, \n",
    "                        filter_items=[itemid_to_id[999999]], \n",
    "                        recalculate_user=False)"
   ]
  },
  {
   "cell_type": "code",
   "execution_count": 12,
   "id": "5099d47d",
   "metadata": {},
   "outputs": [],
   "source": [
    "result['als'] = result['user_id'].map(lambda x: get_recommendations(x, model, sparse_user_item, N=5))\n",
    "pak1 = result.apply(lambda row: precision_at_k(row['als'], row['actual']), axis=1).mean()\n",
    "mapk1 = result.apply(lambda row: ap_at_k(row['als'], row['actual'], 5), axis=1).mean()"
   ]
  },
  {
   "cell_type": "markdown",
   "id": "1d40a12e",
   "metadata": {},
   "source": [
    "### 2. TF-IDF взвешивание:"
   ]
  },
  {
   "cell_type": "code",
   "execution_count": 13,
   "id": "54f69e94",
   "metadata": {},
   "outputs": [],
   "source": [
    "tfidf_user_item_matrix = tfidf_weight(user_item_matrix).tocsr()"
   ]
  },
  {
   "cell_type": "code",
   "execution_count": 14,
   "id": "f1cf568e",
   "metadata": {},
   "outputs": [
    {
     "data": {
      "application/json": {
       "ascii": false,
       "bar_format": null,
       "colour": null,
       "elapsed": 0.014961481094360352,
       "initial": 0,
       "n": 0,
       "ncols": null,
       "nrows": 29,
       "postfix": null,
       "prefix": "",
       "rate": null,
       "total": 10,
       "unit": "it",
       "unit_divisor": 1000,
       "unit_scale": false
      },
      "application/vnd.jupyter.widget-view+json": {
       "model_id": "3ffe1bc6edc24843b7699fe5b20f064b",
       "version_major": 2,
       "version_minor": 0
      },
      "text/plain": [
       "  0%|          | 0/10 [00:00<?, ?it/s]"
      ]
     },
     "metadata": {},
     "output_type": "display_data"
    }
   ],
   "source": [
    "model = AlternatingLeastSquares(factors=100, \n",
    "                                regularization=0.01,\n",
    "                                iterations=10, \n",
    "                                calculate_training_loss=True, \n",
    "                                num_threads=4,\n",
    "                                random_state=42)\n",
    "\n",
    "model.fit(tfidf_user_item_matrix,\n",
    "          show_progress=True)\n",
    "\n",
    "result['als_tfidf'] = result['user_id'].map(lambda x: get_recommendations(x, model, sparse_user_item, N=5))\n",
    "pak2 = result.apply(lambda row: precision_at_k(row['als_tfidf'], row['actual']), axis=1).mean()\n",
    "mapk2 = result.apply(lambda row: ap_at_k(row['als_tfidf'], row['actual']), axis=1).mean()"
   ]
  },
  {
   "cell_type": "code",
   "execution_count": 15,
   "id": "a9ad6d81",
   "metadata": {},
   "outputs": [
    {
     "data": {
      "application/json": {
       "ascii": false,
       "bar_format": null,
       "colour": null,
       "elapsed": 0.013994693756103516,
       "initial": 0,
       "n": 0,
       "ncols": null,
       "nrows": 29,
       "postfix": null,
       "prefix": "",
       "rate": null,
       "total": 2,
       "unit": "it",
       "unit_divisor": 1000,
       "unit_scale": false
      },
      "application/vnd.jupyter.widget-view+json": {
       "model_id": "886673b663d24eb485b6e8d80fd21136",
       "version_major": 2,
       "version_minor": 0
      },
      "text/plain": [
       "  0%|          | 0/2 [00:00<?, ?it/s]"
      ]
     },
     "metadata": {},
     "output_type": "display_data"
    }
   ],
   "source": [
    "model = AlternatingLeastSquares(factors=250, \n",
    "                                regularization=0.05,\n",
    "                                iterations=2, \n",
    "                                calculate_training_loss=True, \n",
    "                                num_threads=4,\n",
    "                                random_state=42)\n",
    "\n",
    "model.fit(tfidf_user_item_matrix,\n",
    "          show_progress=True)\n",
    "\n",
    "result['als_tfidf'] = result['user_id'].map(lambda x: get_recommendations(x, model, sparse_user_item, N=5))\n",
    "pak3 = result.apply(lambda row: precision_at_k(row['als_tfidf'], row['actual']), axis=1).mean()\n",
    "mapk3 = result.apply(lambda row: ap_at_k(row['als_tfidf'], row['actual']), axis=1).mean()"
   ]
  },
  {
   "cell_type": "markdown",
   "id": "7130da0a",
   "metadata": {},
   "source": [
    "### 3. BM25 взвешивание:"
   ]
  },
  {
   "cell_type": "code",
   "execution_count": 16,
   "id": "56cc384f",
   "metadata": {},
   "outputs": [],
   "source": [
    "bm25_user_item_matrix = bm25_weight(user_item_matrix.T).T.tocsr()"
   ]
  },
  {
   "cell_type": "code",
   "execution_count": 17,
   "id": "eed004e8",
   "metadata": {},
   "outputs": [
    {
     "data": {
      "application/json": {
       "ascii": false,
       "bar_format": null,
       "colour": null,
       "elapsed": 0.012967348098754883,
       "initial": 0,
       "n": 0,
       "ncols": null,
       "nrows": 29,
       "postfix": null,
       "prefix": "",
       "rate": null,
       "total": 13,
       "unit": "it",
       "unit_divisor": 1000,
       "unit_scale": false
      },
      "application/vnd.jupyter.widget-view+json": {
       "model_id": "bc51538963574721a2511d0a6e69de9d",
       "version_major": 2,
       "version_minor": 0
      },
      "text/plain": [
       "  0%|          | 0/13 [00:00<?, ?it/s]"
      ]
     },
     "metadata": {},
     "output_type": "display_data"
    }
   ],
   "source": [
    "model = AlternatingLeastSquares(factors=200, \n",
    "                                regularization=0.01,\n",
    "                                iterations=13, \n",
    "                                calculate_training_loss=True, \n",
    "                                num_threads=4,\n",
    "                                random_state=42)\n",
    "\n",
    "model.fit(csr_matrix(bm25_user_item_matrix).tocsr(),\n",
    "          show_progress=True)\n",
    "\n",
    "result['als_bm25'] = result['user_id'].map(lambda x: get_recommendations(x, model, sparse_user_item, N=5))\n",
    "\n",
    "\n",
    "pak4 = result.apply(lambda row: precision_at_k(row['als_bm25'], row['actual']), axis=1).mean()\n",
    "mapk4 = result.apply(lambda row: ap_at_k(row['als_bm25'], row['actual']), axis=1).mean()"
   ]
  },
  {
   "cell_type": "code",
   "execution_count": 18,
   "id": "4a994f0f",
   "metadata": {},
   "outputs": [
    {
     "data": {
      "application/json": {
       "ascii": false,
       "bar_format": null,
       "colour": null,
       "elapsed": 0.012974023818969727,
       "initial": 0,
       "n": 0,
       "ncols": null,
       "nrows": 29,
       "postfix": null,
       "prefix": "",
       "rate": null,
       "total": 2,
       "unit": "it",
       "unit_divisor": 1000,
       "unit_scale": false
      },
      "application/vnd.jupyter.widget-view+json": {
       "model_id": "a51dff3961674f2ca09352bb366062b4",
       "version_major": 2,
       "version_minor": 0
      },
      "text/plain": [
       "  0%|          | 0/2 [00:00<?, ?it/s]"
      ]
     },
     "metadata": {},
     "output_type": "display_data"
    }
   ],
   "source": [
    "model = AlternatingLeastSquares(factors=400, \n",
    "                                regularization=0.005,\n",
    "                                iterations=2, \n",
    "                                calculate_training_loss=True, \n",
    "                                num_threads=4,\n",
    "                                random_state=42)\n",
    "\n",
    "model.fit(csr_matrix(bm25_user_item_matrix).tocsr(),\n",
    "          show_progress=True)\n",
    "\n",
    "result['als_bm25'] = result['user_id'].map(lambda x: get_recommendations(x, model, sparse_user_item, N=5))\n",
    "\n",
    "pak5 = result.apply(lambda row: precision_at_k(row['als_bm25'], row['actual']), axis=1).mean()\n",
    "mapk5 = result.apply(lambda row: ap_at_k(row['als_bm25'], row['actual']), axis=1).mean()"
   ]
  },
  {
   "cell_type": "markdown",
   "id": "62fde8f8",
   "metadata": {},
   "source": [
    "### Результаты:"
   ]
  },
  {
   "cell_type": "code",
   "execution_count": 19,
   "id": "37cd6974",
   "metadata": {},
   "outputs": [
    {
     "data": {
      "text/html": [
       "<div>\n",
       "<style scoped>\n",
       "    .dataframe tbody tr th:only-of-type {\n",
       "        vertical-align: middle;\n",
       "    }\n",
       "\n",
       "    .dataframe tbody tr th {\n",
       "        vertical-align: top;\n",
       "    }\n",
       "\n",
       "    .dataframe thead th {\n",
       "        text-align: right;\n",
       "    }\n",
       "</style>\n",
       "<table border=\"1\" class=\"dataframe\">\n",
       "  <thead>\n",
       "    <tr style=\"text-align: right;\">\n",
       "      <th></th>\n",
       "      <th>user_id</th>\n",
       "      <th>actual</th>\n",
       "      <th>als</th>\n",
       "      <th>als_tfidf</th>\n",
       "      <th>als_bm25</th>\n",
       "    </tr>\n",
       "  </thead>\n",
       "  <tbody>\n",
       "    <tr>\n",
       "      <th>0</th>\n",
       "      <td>1</td>\n",
       "      <td>[821867, 834484, 856942, 865456, 889248, 90795...</td>\n",
       "      <td>[995242, 9527290, 940947, 1033142, 1082185]</td>\n",
       "      <td>[1082185, 1033142, 1082212, 995242, 965766]</td>\n",
       "      <td>[995242, 1082185, 9527290, 940947, 1033142]</td>\n",
       "    </tr>\n",
       "    <tr>\n",
       "      <th>1</th>\n",
       "      <td>3</td>\n",
       "      <td>[835476, 851057, 872021, 878302, 879948, 90963...</td>\n",
       "      <td>[952317, 910032, 1098066, 1101173, 1042438]</td>\n",
       "      <td>[1101010, 1133018, 1106523, 1098066, 1092026]</td>\n",
       "      <td>[1022003, 1133018, 1092026, 910032, 938700]</td>\n",
       "    </tr>\n",
       "  </tbody>\n",
       "</table>\n",
       "</div>"
      ],
      "text/plain": [
       "   user_id                                             actual  \\\n",
       "0        1  [821867, 834484, 856942, 865456, 889248, 90795...   \n",
       "1        3  [835476, 851057, 872021, 878302, 879948, 90963...   \n",
       "\n",
       "                                           als  \\\n",
       "0  [995242, 9527290, 940947, 1033142, 1082185]   \n",
       "1  [952317, 910032, 1098066, 1101173, 1042438]   \n",
       "\n",
       "                                       als_tfidf  \\\n",
       "0    [1082185, 1033142, 1082212, 995242, 965766]   \n",
       "1  [1101010, 1133018, 1106523, 1098066, 1092026]   \n",
       "\n",
       "                                      als_bm25  \n",
       "0  [995242, 1082185, 9527290, 940947, 1033142]  \n",
       "1  [1022003, 1133018, 1092026, 910032, 938700]  "
      ]
     },
     "execution_count": 19,
     "metadata": {},
     "output_type": "execute_result"
    }
   ],
   "source": [
    "result.head(2)"
   ]
  },
  {
   "cell_type": "code",
   "execution_count": 20,
   "id": "b07e5620",
   "metadata": {},
   "outputs": [
    {
     "name": "stdout",
     "output_type": "stream",
     "text": [
      "ALS:\n",
      "Старые параметры: factors=100,regularization=0.001,iterations=15; P@K - 0.18099902056807052, MAP@K - 0.11083578191315703\n",
      "Новые  параметры: factors=200,regularization=0.005,iterations=1;  P@K - 0.20773751224289913, MAP@K - 0.13107574273587985\n",
      "TF-IDF:\n",
      "Старые параметры: factors=100,regularization=0.01,iterations=10;  P@K - 0.2406464250734574,  MAP@K - 0.1642866470780281\n",
      "Новые  параметры: factors=250,regularization=0.05,iterations=2;   P@K - 0.24554358472086193, MAP@K - 0.1663728370878224\n",
      "BM25:\n",
      "Старые параметры: factors=200,regularization=0.01,iterations=13;  P@K - 0.23016650342801176, MAP@K - 0.15431603003591252\n",
      "Новые  параметры: factors=400,regularization=0.005,iterations=1;  P@K - 0.2378060724779628, MAP@K - 0.16143160300359127\n"
     ]
    }
   ],
   "source": [
    "print('ALS:')\n",
    "print(f'Старые параметры: factors=100,regularization=0.001,iterations=15; P@K - {pak0}, MAP@K - {mapk0}')\n",
    "print(f'Новые  параметры: factors=200,regularization=0.005,iterations=1;  P@K - {pak1}, MAP@K - {mapk1}')\n",
    "print('TF-IDF:')\n",
    "print(f'Старые параметры: factors=100,regularization=0.01,iterations=10;  P@K - {pak2},  MAP@K - {mapk2}')\n",
    "print(f'Новые  параметры: factors=250,regularization=0.05,iterations=2;   P@K - {pak3}, MAP@K - {mapk3}')\n",
    "print('BM25:')\n",
    "print(f'Старые параметры: factors=200,regularization=0.01,iterations=13;  P@K - {pak4}, MAP@K - {mapk4}')\n",
    "print(f'Новые  параметры: factors=400,regularization=0.005,iterations=1;  P@K - {pak5}, MAP@K - {mapk5}')"
   ]
  },
  {
   "cell_type": "markdown",
   "id": "5a37aaa0",
   "metadata": {},
   "source": [
    "### Выводы: Лучшие показатели метрик у BM25. Причем улучшение качества у всех трех моделей наблюдается при увеличении количества факторов, уменьшении итераций и увеличении регуляризации."
   ]
  },
  {
   "cell_type": "code",
   "execution_count": null,
   "id": "03f962e2",
   "metadata": {},
   "outputs": [],
   "source": []
  }
 ],
 "metadata": {
  "kernelspec": {
   "display_name": "Python 3 (ipykernel)",
   "language": "python",
   "name": "python3"
  },
  "language_info": {
   "codemirror_mode": {
    "name": "ipython",
    "version": 3
   },
   "file_extension": ".py",
   "mimetype": "text/x-python",
   "name": "python",
   "nbconvert_exporter": "python",
   "pygments_lexer": "ipython3",
   "version": "3.10.4"
  }
 },
 "nbformat": 4,
 "nbformat_minor": 5
}
